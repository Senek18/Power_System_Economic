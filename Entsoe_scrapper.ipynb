{
 "cells": [
  {
   "cell_type": "code",
   "execution_count": 10,
   "metadata": {
    "pycharm": {
     "name": "#%%\n"
    }
   },
   "outputs": [],
   "source": [
    "from urllib.request import urlopen\n",
    "from bs4 import BeautifulSoup\n",
    "import pandas as pd\n",
    "from functools import reduce\n",
    "from datetime import date, timedelta\n",
    "import time"
   ]
  },
  {
   "cell_type": "code",
   "execution_count": 2,
   "metadata": {
    "pycharm": {
     "name": "#%%\n"
    }
   },
   "outputs": [],
   "source": [
    "def entsoe_scrapper(url: str, tech: str):\n",
    "    page = urlopen(url)\n",
    "    html_bytes = page.read()\n",
    "    html = html_bytes.decode(\"utf-8\")\n",
    "    soup = BeautifulSoup(html, \"html.parser\")\n",
    "    table = soup.find_all(\"td\")\n",
    "    mtu_basic = ['t1','t2','t3','t4','t5','t6','t7','t8','t9','t10','t11','t12','t13','t14','t15','t16','t17','t18','t19','t20','t21','t22','t23','t24']\n",
    "    agg = []\n",
    "    \n",
    "    for i,row in enumerate(table):\n",
    "        if(i % 2 != 0):\n",
    "            try:\n",
    "                agg.append(float(row.text.strip()))\n",
    "            except ValueError:\n",
    "                agg.append(0)\n",
    "            \n",
    "    if len(agg) != 24:\n",
    "        i = 0\n",
    "        stop = len(agg)\n",
    "        new_agg = []\n",
    "        while i<stop:\n",
    "            var = (float(agg[i]) + float(agg[i+1]) + float(agg[i+2]) + float(agg[i+3]))/4\n",
    "            new_agg.append(var)\n",
    "            i = i + 4\n",
    "        df = pd.DataFrame({\"MTU\":mtu_basic, tech:new_agg}) \n",
    "    else:\n",
    "        df = pd.DataFrame({\"MTU\":mtu_basic, tech:agg})\n",
    "    return df"
   ]
  },
  {
   "cell_type": "code",
   "execution_count": 3,
   "metadata": {
    "pycharm": {
     "name": "#%%\n"
    }
   },
   "outputs": [],
   "source": [
    "def germany(data: str):\n",
    "    solar = f\"https://transparency.entsoe.eu/generation/r2/actualGenerationPerProductionType/show?name=&defaultValue=false&viewType=TABLE&areaType=CTY&atch=false&datepicker-day-offset-select-dv-date-from_input=D&dateTime.dateTime={data}+00:00|CET|DAYTIMERANGE&dateTime.endDateTime={data}+00:00|CET|DAYTIMERANGE&area.values=CTY|10Y1001A1001A83F!CTY|10Y1001A1001A83F&productionType.values=B16&dateTime.timezone=CET_CEST&dateTime.timezone_input=CET+(UTC+1)+/+CEST+(UTC+2)\"\n",
    "    offshore = f\"https://transparency.entsoe.eu/generation/r2/actualGenerationPerProductionType/show?name=&defaultValue=false&viewType=TABLE&areaType=CTY&atch=false&datepicker-day-offset-select-dv-date-from_input=D&dateTime.dateTime={data}+00:00|CET|DAYTIMERANGE&dateTime.endDateTime={data}+00:00|CET|DAYTIMERANGE&area.values=CTY|10Y1001A1001A83F!CTY|10Y1001A1001A83F&productionType.values=B18&dateTime.timezone=CET_CEST&dateTime.timezone_input=CET+(UTC+1)+/+CEST+(UTC+2)\"\n",
    "    onshore = f\"https://transparency.entsoe.eu/generation/r2/actualGenerationPerProductionType/show?name=&defaultValue=false&viewType=TABLE&areaType=CTY&atch=false&datepicker-day-offset-select-dv-date-from_input=D&dateTime.dateTime={data}+00:00|CET|DAYTIMERANGE&dateTime.endDateTime={data}+00:00|CET|DAYTIMERANGE&area.values=CTY|10Y1001A1001A83F!CTY|10Y1001A1001A83F&productionType.values=B19&dateTime.timezone=CET_CEST&dateTime.timezone_input=CET+(UTC+1)+/+CEST+(UTC+2)\"\n",
    "    df_solar = entsoe_scrapper(solar, \"i10\")\n",
    "    df_offshore = entsoe_scrapper(offshore, \"i8\")\n",
    "    df_onshore = entsoe_scrapper(onshore, \"i3\")\n",
    "    \n",
    "    # compile the list of dataframes you want to merge\n",
    "    data_frames = [df_solar, df_offshore, df_onshore]\n",
    "    df_merged = reduce(lambda  left,right: pd.merge(left,right,on=['MTU'],\n",
    "                                            how='outer'), data_frames)\n",
    "    df_merged.set_index(['MTU'], inplace=True)\n",
    "    return(df_merged)\n",
    "    \n",
    "def france(data: str):\n",
    "    solar = f\"https://transparency.entsoe.eu/generation/r2/actualGenerationPerProductionType/show?name=&defaultValue=false&viewType=TABLE&areaType=CTY&atch=false&datepicker-day-offset-select-dv-date-from_input=D&dateTime.dateTime={data}+00:00|CET|DAYTIMERANGE&dateTime.endDateTime={data}+00:00|CET|DAYTIMERANGE&area.values=CTY|10YFR-RTE------C!CTY|10YFR-RTE------C&productionType.values=B16&dateTime.timezone=CET_CEST&dateTime.timezone_input=CET+(UTC+1)+/+CEST+(UTC+2)\"\n",
    "    offshore = f\"https://transparency.entsoe.eu/generation/r2/actualGenerationPerProductionType/show?name=&defaultValue=false&viewType=TABLE&areaType=CTY&atch=false&datepicker-day-offset-select-dv-date-from_input=D&dateTime.dateTime={data}+00:00|CET|DAYTIMERANGE&dateTime.endDateTime={data}+00:00|CET|DAYTIMERANGE&area.values=CTY|10YFR-RTE------C!CTY|10YFR-RTE------C&productionType.values=B18&dateTime.timezone=CET_CEST&dateTime.timezone_input=CET+(UTC+1)+/+CEST+(UTC+2)\"\n",
    "    onshore = f\"https://transparency.entsoe.eu/generation/r2/actualGenerationPerProductionType/show?name=&defaultValue=false&viewType=TABLE&areaType=CTY&atch=false&datepicker-day-offset-select-dv-date-from_input=D&dateTime.dateTime={data}+00:00|CET|DAYTIMERANGE&dateTime.endDateTime={data}+00:00|CET|DAYTIMERANGE&area.values=CTY|10YFR-RTE------C!CTY|10YFR-RTE------C&productionType.values=B19&dateTime.timezone=CET_CEST&dateTime.timezone_input=CET+(UTC+1)+/+CEST+(UTC+2)\"\n",
    "    df_solar = entsoe_scrapper(solar, \"i10\")\n",
    "    df_offshore = entsoe_scrapper(offshore, \"i8\")\n",
    "    df_onshore = entsoe_scrapper(onshore, \"i3\")\n",
    "    \n",
    "    # compile the list of dataframes you want to merge\n",
    "    data_frames = [df_solar, df_offshore, df_onshore]\n",
    "    df_merged = reduce(lambda  left,right: pd.merge(left,right,on=['MTU'],\n",
    "                                            how='outer'), data_frames)\n",
    "    df_merged.set_index(['MTU'], inplace=True)\n",
    "    return(df_merged)\n",
    "    \n",
    "def benelux(data: str):\n",
    "    solar_be = f\"https://transparency.entsoe.eu/generation/r2/actualGenerationPerProductionType/show?name=&defaultValue=false&viewType=TABLE&areaType=CTY&atch=false&datepicker-day-offset-select-dv-date-from_input=D&dateTime.dateTime={data}+00:00|CET|DAYTIMERANGE&dateTime.endDateTime={data}+00:00|CET|DAYTIMERANGE&area.values=CTY|10YBE----------2!CTY|10YBE----------2&productionType.values=B16&dateTime.timezone=CET_CEST&dateTime.timezone_input=CET+(UTC+1)+/+CEST+(UTC+2)\"\n",
    "    offshore_be = f\"https://transparency.entsoe.eu/generation/r2/actualGenerationPerProductionType/show?name=&defaultValue=false&viewType=TABLE&areaType=CTY&atch=false&datepicker-day-offset-select-dv-date-from_input=D&dateTime.dateTime={data}+00:00|CET|DAYTIMERANGE&dateTime.endDateTime={data}+00:00|CET|DAYTIMERANGE&area.values=CTY|10YBE----------2!CTY|10YBE----------2&productionType.values=B18&dateTime.timezone=CET_CEST&dateTime.timezone_input=CET+(UTC+1)+/+CEST+(UTC+2)\"\n",
    "    onshore_be = f\"https://transparency.entsoe.eu/generation/r2/actualGenerationPerProductionType/show?name=&defaultValue=false&viewType=TABLE&areaType=CTY&atch=false&datepicker-day-offset-select-dv-date-from_input=D&dateTime.dateTime={data}+00:00|CET|DAYTIMERANGE&dateTime.endDateTime={data}+00:00|CET|DAYTIMERANGE&area.values=CTY|10YBE----------2!CTY|10YBE----------2&productionType.values=B19&dateTime.timezone=CET_CEST&dateTime.timezone_input=CET+(UTC+1)+/+CEST+(UTC+2)\"\n",
    "    df_solar_be = entsoe_scrapper(solar_be, \"i10\")\n",
    "    df_offshore_be = entsoe_scrapper(offshore_be, \"i8\")\n",
    "    df_onshore_be = entsoe_scrapper(onshore_be, \"i3\")\n",
    "\n",
    "    solar_ne = f\"https://transparency.entsoe.eu/generation/r2/actualGenerationPerProductionType/show?name=&defaultValue=false&viewType=TABLE&areaType=CTY&atch=false&datepicker-day-offset-select-dv-date-from_input=D&dateTime.dateTime={data}+00:00|CET|DAYTIMERANGE&dateTime.endDateTime={data}+00:00|CET|DAYTIMERANGE&area.values=CTY|10YNL----------L!CTY|10YNL----------L&productionType.values=B16&dateTime.timezone=CET_CEST&dateTime.timezone_input=CET+(UTC+1)+/+CEST+(UTC+2)\"\n",
    "    offshore_ne = f\"https://transparency.entsoe.eu/generation/r2/actualGenerationPerProductionType/show?name=&defaultValue=false&viewType=TABLE&areaType=CTY&atch=false&datepicker-day-offset-select-dv-date-from_input=D&dateTime.dateTime={data}+00:00|CET|DAYTIMERANGE&dateTime.endDateTime={data}+00:00|CET|DAYTIMERANGE&area.values=CTY|10YNL----------L!CTY|10YNL----------L&productionType.values=B18&dateTime.timezone=CET_CEST&dateTime.timezone_input=CET+(UTC+1)+/+CEST+(UTC+2)\"\n",
    "    onshore_ne = f\"https://transparency.entsoe.eu/generation/r2/actualGenerationPerProductionType/show?name=&defaultValue=false&viewType=TABLE&areaType=CTY&atch=false&datepicker-day-offset-select-dv-date-from_input=D&dateTime.dateTime={data}+00:00|CET|DAYTIMERANGE&dateTime.endDateTime={data}+00:00|CET|DAYTIMERANGE&area.values=CTY|10YNL----------L!CTY|10YNL----------L&productionType.values=B19&dateTime.timezone=CET_CEST&dateTime.timezone_input=CET+(UTC+1)+/+CEST+(UTC+2)\"\n",
    "    df_solar_ne = entsoe_scrapper(solar_ne, \"i10\")\n",
    "    df_offshore_ne = entsoe_scrapper(offshore_ne, \"i8\")\n",
    "    df_onshore_ne = entsoe_scrapper(onshore_ne, \"i3\")\n",
    "    \n",
    "    df_solar_be['i10'] += df_solar_ne['i10']\n",
    "    df_offshore_be['i8'] += df_offshore_ne['i8']\n",
    "    df_onshore_be['i3'] += df_onshore_ne['i3']\n",
    "    \n",
    "    # compile the list of dataframes you want to merge\n",
    "    data_frames = [df_solar_be, df_offshore_be, df_onshore_be]\n",
    "    df_merged = reduce(lambda  left,right: pd.merge(left,right,on=['MTU'],\n",
    "                                            how='outer'), data_frames)\n",
    "    df_merged.set_index(['MTU'], inplace=True)\n",
    "    return(df_merged)"
   ]
  },
  {
   "cell_type": "code",
   "execution_count": 4,
   "metadata": {
    "pycharm": {
     "name": "#%%\n"
    }
   },
   "outputs": [],
   "source": [
    "def all_country(data: str):\n",
    "    df_de = germany(data).add_suffix('_de')\n",
    "    df_france = france(data).add_suffix('_fr')\n",
    "    df_benelux = benelux(data).add_suffix('_bnl')\n",
    "    df = df_de.join(df_france).join(df_benelux)\n",
    "    return df"
   ]
  },
  {
   "cell_type": "code",
   "execution_count": 44,
   "metadata": {
    "pycharm": {
     "name": "#%%\n"
    }
   },
   "outputs": [
    {
     "data": {
      "text/plain": "      i10_de    i8_de    i3_de  i10_fr  i8_fr   i3_fr  i10_bnl   i8_bnl  \\\nMTU                                                                       \nt1      0.00  5152.50  9810.00     0.0      0  1594.0     0.00  2071.75   \nt2      0.00  4979.25  9557.50     0.0      0  1582.0     0.00  2050.00   \nt3      0.00  4817.75  9305.75     0.0      0  1586.0     0.00  1832.00   \nt4      0.00  4749.75  8993.25     0.0      0  1483.0     0.00  1725.75   \nt5      0.00  4750.00  8229.50     0.0      0  1476.0     0.00  1710.75   \nt6      0.00  4480.00  7593.75     0.0      0  1444.0     0.00  2172.75   \nt7      0.00  4808.25  6994.50     0.0      0  1374.0     0.00  2692.75   \nt8      0.25  4703.75  6355.75     0.0      0  1309.0     0.00  2340.50   \nt9     98.25  4747.75  6005.25   189.0      0  1182.0     0.00  1865.50   \nt10   377.00  4296.25  5514.00   549.0      0  1141.0    30.25  1557.75   \nt11   938.50  3894.75  4632.25  1254.0      0  1115.0   129.75  1291.25   \nt12  1394.00  3660.00  4041.50  2024.0      0  1047.0   191.50  1156.25   \nt13  1567.25  3789.00  3873.75  2460.0      0   994.0   265.00   891.75   \nt14  1402.25  3537.25  3868.50  2405.0      0  1014.0   294.75   536.75   \nt15   955.00  3215.75  4130.25  1905.0      0  1062.0   239.50   421.25   \nt16   371.00  3009.50  4221.50  1190.0      0  1070.0   148.50   446.25   \nt17    24.50  3113.25  4332.50   477.0      0  1030.0    28.50   536.75   \nt18     0.00  3179.50  4445.25   167.0      0  1024.0     0.00   728.50   \nt19     0.00  2897.25  4487.50     0.0      0   934.0     0.00   304.50   \nt20     0.00  2455.25  4381.75     0.0      0   891.0     0.00   284.25   \nt21     0.00  2148.00  4299.25     0.0      0   872.0     0.00   374.75   \nt22     0.00  2016.00  4468.75     0.0      0   834.0     0.00   446.00   \nt23     0.00  1860.75  4725.50     0.0      0   798.0     0.00   778.00   \nt24     0.00  1695.25  4772.25     0.0      0   802.0     0.00   907.00   \nt1      0.00  1334.75  4768.50     0.0      0   809.0     0.00  1269.00   \nt2      0.00  1108.50  4983.75     0.0      0   837.0     0.00  1438.75   \nt3      0.00  1096.25  4991.75     0.0      0   856.0     0.00  1652.00   \nt4      0.00  1166.25  5140.25     0.0      0   864.0     0.00  2033.00   \nt5      0.00  1199.00  5251.50     0.0      0   863.0     0.00  1785.25   \nt6      0.00  1222.75  5276.00     0.0      0   841.0     0.00  2404.25   \nt7      0.00  1168.50  5222.00     0.0      0   831.0     0.00  2648.50   \nt8      0.50  1136.75  4956.25     0.0      0   897.0     0.00  2468.50   \nt9    111.00  1201.00  4767.00   196.0      0   980.0     1.00  2285.75   \nt10   339.75  1162.75  4742.00   662.0      0   948.0    77.25  2172.50   \nt11   923.50   936.50  4853.00  1787.0      0   901.0   276.50  1639.50   \nt12  1547.00   855.25  4862.50  2797.0      0   797.0   472.25  1882.25   \nt13  1819.75   772.00  4812.00  3249.0      0   827.0   570.75  2162.50   \nt14  1637.25   764.50  4667.25  3042.0      0   922.0   525.00  2039.25   \nt15  1132.00   727.75  4293.25  2401.0      0   982.0   343.25  1900.75   \nt16   464.00   771.50  4068.50  1556.0      0  1056.0   158.75  1789.00   \nt17    34.75   838.00  4407.50   621.0      0  1100.0    26.75  1889.00   \nt18     0.00   888.50  4838.75   180.0      0  1194.0     0.00  2930.00   \nt19     0.00  1063.50  5428.75     0.0      0  1366.0     0.00  2945.25   \nt20     0.00  1028.00  5669.25     0.0      0  1460.0     0.00  2283.75   \nt21     0.00   937.25  5655.50     0.0      0  1524.0     0.00  1912.25   \nt22     0.00   890.00  5530.75     0.0      0  1569.0     0.00  1794.25   \nt23     0.00   797.25  5426.25     0.0      0  1592.0     0.00  1618.00   \nt24     0.00   845.50  5436.25     0.0      0  1606.0     0.00  1480.50   \n\n     i3_bnl  \nMTU          \nt1   731.50  \nt2   727.50  \nt3   741.00  \nt4   711.50  \nt5   678.25  \nt6   601.50  \nt7   527.75  \nt8   475.50  \nt9   464.75  \nt10  388.75  \nt11  339.75  \nt12  234.00  \nt13  187.00  \nt14  162.75  \nt15  175.25  \nt16  153.50  \nt17  163.25  \nt18  143.75  \nt19  119.25  \nt20  106.50  \nt21  127.50  \nt22  150.75  \nt23  194.25  \nt24  196.50  \nt1   208.25  \nt2   266.25  \nt3   325.50  \nt4   311.50  \nt5   320.25  \nt6   364.25  \nt7   419.00  \nt8   433.50  \nt9   405.50  \nt10  424.00  \nt11  458.00  \nt12  398.75  \nt13  463.25  \nt14  527.50  \nt15  566.25  \nt16  616.25  \nt17  595.00  \nt18  561.50  \nt19  581.75  \nt20  608.25  \nt21  603.75  \nt22  610.00  \nt23  721.00  \nt24  754.75  ",
      "text/html": "<div>\n<style scoped>\n    .dataframe tbody tr th:only-of-type {\n        vertical-align: middle;\n    }\n\n    .dataframe tbody tr th {\n        vertical-align: top;\n    }\n\n    .dataframe thead th {\n        text-align: right;\n    }\n</style>\n<table border=\"1\" class=\"dataframe\">\n  <thead>\n    <tr style=\"text-align: right;\">\n      <th></th>\n      <th>i10_de</th>\n      <th>i8_de</th>\n      <th>i3_de</th>\n      <th>i10_fr</th>\n      <th>i8_fr</th>\n      <th>i3_fr</th>\n      <th>i10_bnl</th>\n      <th>i8_bnl</th>\n      <th>i3_bnl</th>\n    </tr>\n    <tr>\n      <th>MTU</th>\n      <th></th>\n      <th></th>\n      <th></th>\n      <th></th>\n      <th></th>\n      <th></th>\n      <th></th>\n      <th></th>\n      <th></th>\n    </tr>\n  </thead>\n  <tbody>\n    <tr>\n      <th>t1</th>\n      <td>0.00</td>\n      <td>5152.50</td>\n      <td>9810.00</td>\n      <td>0.0</td>\n      <td>0</td>\n      <td>1594.0</td>\n      <td>0.00</td>\n      <td>2071.75</td>\n      <td>731.50</td>\n    </tr>\n    <tr>\n      <th>t2</th>\n      <td>0.00</td>\n      <td>4979.25</td>\n      <td>9557.50</td>\n      <td>0.0</td>\n      <td>0</td>\n      <td>1582.0</td>\n      <td>0.00</td>\n      <td>2050.00</td>\n      <td>727.50</td>\n    </tr>\n    <tr>\n      <th>t3</th>\n      <td>0.00</td>\n      <td>4817.75</td>\n      <td>9305.75</td>\n      <td>0.0</td>\n      <td>0</td>\n      <td>1586.0</td>\n      <td>0.00</td>\n      <td>1832.00</td>\n      <td>741.00</td>\n    </tr>\n    <tr>\n      <th>t4</th>\n      <td>0.00</td>\n      <td>4749.75</td>\n      <td>8993.25</td>\n      <td>0.0</td>\n      <td>0</td>\n      <td>1483.0</td>\n      <td>0.00</td>\n      <td>1725.75</td>\n      <td>711.50</td>\n    </tr>\n    <tr>\n      <th>t5</th>\n      <td>0.00</td>\n      <td>4750.00</td>\n      <td>8229.50</td>\n      <td>0.0</td>\n      <td>0</td>\n      <td>1476.0</td>\n      <td>0.00</td>\n      <td>1710.75</td>\n      <td>678.25</td>\n    </tr>\n    <tr>\n      <th>t6</th>\n      <td>0.00</td>\n      <td>4480.00</td>\n      <td>7593.75</td>\n      <td>0.0</td>\n      <td>0</td>\n      <td>1444.0</td>\n      <td>0.00</td>\n      <td>2172.75</td>\n      <td>601.50</td>\n    </tr>\n    <tr>\n      <th>t7</th>\n      <td>0.00</td>\n      <td>4808.25</td>\n      <td>6994.50</td>\n      <td>0.0</td>\n      <td>0</td>\n      <td>1374.0</td>\n      <td>0.00</td>\n      <td>2692.75</td>\n      <td>527.75</td>\n    </tr>\n    <tr>\n      <th>t8</th>\n      <td>0.25</td>\n      <td>4703.75</td>\n      <td>6355.75</td>\n      <td>0.0</td>\n      <td>0</td>\n      <td>1309.0</td>\n      <td>0.00</td>\n      <td>2340.50</td>\n      <td>475.50</td>\n    </tr>\n    <tr>\n      <th>t9</th>\n      <td>98.25</td>\n      <td>4747.75</td>\n      <td>6005.25</td>\n      <td>189.0</td>\n      <td>0</td>\n      <td>1182.0</td>\n      <td>0.00</td>\n      <td>1865.50</td>\n      <td>464.75</td>\n    </tr>\n    <tr>\n      <th>t10</th>\n      <td>377.00</td>\n      <td>4296.25</td>\n      <td>5514.00</td>\n      <td>549.0</td>\n      <td>0</td>\n      <td>1141.0</td>\n      <td>30.25</td>\n      <td>1557.75</td>\n      <td>388.75</td>\n    </tr>\n    <tr>\n      <th>t11</th>\n      <td>938.50</td>\n      <td>3894.75</td>\n      <td>4632.25</td>\n      <td>1254.0</td>\n      <td>0</td>\n      <td>1115.0</td>\n      <td>129.75</td>\n      <td>1291.25</td>\n      <td>339.75</td>\n    </tr>\n    <tr>\n      <th>t12</th>\n      <td>1394.00</td>\n      <td>3660.00</td>\n      <td>4041.50</td>\n      <td>2024.0</td>\n      <td>0</td>\n      <td>1047.0</td>\n      <td>191.50</td>\n      <td>1156.25</td>\n      <td>234.00</td>\n    </tr>\n    <tr>\n      <th>t13</th>\n      <td>1567.25</td>\n      <td>3789.00</td>\n      <td>3873.75</td>\n      <td>2460.0</td>\n      <td>0</td>\n      <td>994.0</td>\n      <td>265.00</td>\n      <td>891.75</td>\n      <td>187.00</td>\n    </tr>\n    <tr>\n      <th>t14</th>\n      <td>1402.25</td>\n      <td>3537.25</td>\n      <td>3868.50</td>\n      <td>2405.0</td>\n      <td>0</td>\n      <td>1014.0</td>\n      <td>294.75</td>\n      <td>536.75</td>\n      <td>162.75</td>\n    </tr>\n    <tr>\n      <th>t15</th>\n      <td>955.00</td>\n      <td>3215.75</td>\n      <td>4130.25</td>\n      <td>1905.0</td>\n      <td>0</td>\n      <td>1062.0</td>\n      <td>239.50</td>\n      <td>421.25</td>\n      <td>175.25</td>\n    </tr>\n    <tr>\n      <th>t16</th>\n      <td>371.00</td>\n      <td>3009.50</td>\n      <td>4221.50</td>\n      <td>1190.0</td>\n      <td>0</td>\n      <td>1070.0</td>\n      <td>148.50</td>\n      <td>446.25</td>\n      <td>153.50</td>\n    </tr>\n    <tr>\n      <th>t17</th>\n      <td>24.50</td>\n      <td>3113.25</td>\n      <td>4332.50</td>\n      <td>477.0</td>\n      <td>0</td>\n      <td>1030.0</td>\n      <td>28.50</td>\n      <td>536.75</td>\n      <td>163.25</td>\n    </tr>\n    <tr>\n      <th>t18</th>\n      <td>0.00</td>\n      <td>3179.50</td>\n      <td>4445.25</td>\n      <td>167.0</td>\n      <td>0</td>\n      <td>1024.0</td>\n      <td>0.00</td>\n      <td>728.50</td>\n      <td>143.75</td>\n    </tr>\n    <tr>\n      <th>t19</th>\n      <td>0.00</td>\n      <td>2897.25</td>\n      <td>4487.50</td>\n      <td>0.0</td>\n      <td>0</td>\n      <td>934.0</td>\n      <td>0.00</td>\n      <td>304.50</td>\n      <td>119.25</td>\n    </tr>\n    <tr>\n      <th>t20</th>\n      <td>0.00</td>\n      <td>2455.25</td>\n      <td>4381.75</td>\n      <td>0.0</td>\n      <td>0</td>\n      <td>891.0</td>\n      <td>0.00</td>\n      <td>284.25</td>\n      <td>106.50</td>\n    </tr>\n    <tr>\n      <th>t21</th>\n      <td>0.00</td>\n      <td>2148.00</td>\n      <td>4299.25</td>\n      <td>0.0</td>\n      <td>0</td>\n      <td>872.0</td>\n      <td>0.00</td>\n      <td>374.75</td>\n      <td>127.50</td>\n    </tr>\n    <tr>\n      <th>t22</th>\n      <td>0.00</td>\n      <td>2016.00</td>\n      <td>4468.75</td>\n      <td>0.0</td>\n      <td>0</td>\n      <td>834.0</td>\n      <td>0.00</td>\n      <td>446.00</td>\n      <td>150.75</td>\n    </tr>\n    <tr>\n      <th>t23</th>\n      <td>0.00</td>\n      <td>1860.75</td>\n      <td>4725.50</td>\n      <td>0.0</td>\n      <td>0</td>\n      <td>798.0</td>\n      <td>0.00</td>\n      <td>778.00</td>\n      <td>194.25</td>\n    </tr>\n    <tr>\n      <th>t24</th>\n      <td>0.00</td>\n      <td>1695.25</td>\n      <td>4772.25</td>\n      <td>0.0</td>\n      <td>0</td>\n      <td>802.0</td>\n      <td>0.00</td>\n      <td>907.00</td>\n      <td>196.50</td>\n    </tr>\n    <tr>\n      <th>t1</th>\n      <td>0.00</td>\n      <td>1334.75</td>\n      <td>4768.50</td>\n      <td>0.0</td>\n      <td>0</td>\n      <td>809.0</td>\n      <td>0.00</td>\n      <td>1269.00</td>\n      <td>208.25</td>\n    </tr>\n    <tr>\n      <th>t2</th>\n      <td>0.00</td>\n      <td>1108.50</td>\n      <td>4983.75</td>\n      <td>0.0</td>\n      <td>0</td>\n      <td>837.0</td>\n      <td>0.00</td>\n      <td>1438.75</td>\n      <td>266.25</td>\n    </tr>\n    <tr>\n      <th>t3</th>\n      <td>0.00</td>\n      <td>1096.25</td>\n      <td>4991.75</td>\n      <td>0.0</td>\n      <td>0</td>\n      <td>856.0</td>\n      <td>0.00</td>\n      <td>1652.00</td>\n      <td>325.50</td>\n    </tr>\n    <tr>\n      <th>t4</th>\n      <td>0.00</td>\n      <td>1166.25</td>\n      <td>5140.25</td>\n      <td>0.0</td>\n      <td>0</td>\n      <td>864.0</td>\n      <td>0.00</td>\n      <td>2033.00</td>\n      <td>311.50</td>\n    </tr>\n    <tr>\n      <th>t5</th>\n      <td>0.00</td>\n      <td>1199.00</td>\n      <td>5251.50</td>\n      <td>0.0</td>\n      <td>0</td>\n      <td>863.0</td>\n      <td>0.00</td>\n      <td>1785.25</td>\n      <td>320.25</td>\n    </tr>\n    <tr>\n      <th>t6</th>\n      <td>0.00</td>\n      <td>1222.75</td>\n      <td>5276.00</td>\n      <td>0.0</td>\n      <td>0</td>\n      <td>841.0</td>\n      <td>0.00</td>\n      <td>2404.25</td>\n      <td>364.25</td>\n    </tr>\n    <tr>\n      <th>t7</th>\n      <td>0.00</td>\n      <td>1168.50</td>\n      <td>5222.00</td>\n      <td>0.0</td>\n      <td>0</td>\n      <td>831.0</td>\n      <td>0.00</td>\n      <td>2648.50</td>\n      <td>419.00</td>\n    </tr>\n    <tr>\n      <th>t8</th>\n      <td>0.50</td>\n      <td>1136.75</td>\n      <td>4956.25</td>\n      <td>0.0</td>\n      <td>0</td>\n      <td>897.0</td>\n      <td>0.00</td>\n      <td>2468.50</td>\n      <td>433.50</td>\n    </tr>\n    <tr>\n      <th>t9</th>\n      <td>111.00</td>\n      <td>1201.00</td>\n      <td>4767.00</td>\n      <td>196.0</td>\n      <td>0</td>\n      <td>980.0</td>\n      <td>1.00</td>\n      <td>2285.75</td>\n      <td>405.50</td>\n    </tr>\n    <tr>\n      <th>t10</th>\n      <td>339.75</td>\n      <td>1162.75</td>\n      <td>4742.00</td>\n      <td>662.0</td>\n      <td>0</td>\n      <td>948.0</td>\n      <td>77.25</td>\n      <td>2172.50</td>\n      <td>424.00</td>\n    </tr>\n    <tr>\n      <th>t11</th>\n      <td>923.50</td>\n      <td>936.50</td>\n      <td>4853.00</td>\n      <td>1787.0</td>\n      <td>0</td>\n      <td>901.0</td>\n      <td>276.50</td>\n      <td>1639.50</td>\n      <td>458.00</td>\n    </tr>\n    <tr>\n      <th>t12</th>\n      <td>1547.00</td>\n      <td>855.25</td>\n      <td>4862.50</td>\n      <td>2797.0</td>\n      <td>0</td>\n      <td>797.0</td>\n      <td>472.25</td>\n      <td>1882.25</td>\n      <td>398.75</td>\n    </tr>\n    <tr>\n      <th>t13</th>\n      <td>1819.75</td>\n      <td>772.00</td>\n      <td>4812.00</td>\n      <td>3249.0</td>\n      <td>0</td>\n      <td>827.0</td>\n      <td>570.75</td>\n      <td>2162.50</td>\n      <td>463.25</td>\n    </tr>\n    <tr>\n      <th>t14</th>\n      <td>1637.25</td>\n      <td>764.50</td>\n      <td>4667.25</td>\n      <td>3042.0</td>\n      <td>0</td>\n      <td>922.0</td>\n      <td>525.00</td>\n      <td>2039.25</td>\n      <td>527.50</td>\n    </tr>\n    <tr>\n      <th>t15</th>\n      <td>1132.00</td>\n      <td>727.75</td>\n      <td>4293.25</td>\n      <td>2401.0</td>\n      <td>0</td>\n      <td>982.0</td>\n      <td>343.25</td>\n      <td>1900.75</td>\n      <td>566.25</td>\n    </tr>\n    <tr>\n      <th>t16</th>\n      <td>464.00</td>\n      <td>771.50</td>\n      <td>4068.50</td>\n      <td>1556.0</td>\n      <td>0</td>\n      <td>1056.0</td>\n      <td>158.75</td>\n      <td>1789.00</td>\n      <td>616.25</td>\n    </tr>\n    <tr>\n      <th>t17</th>\n      <td>34.75</td>\n      <td>838.00</td>\n      <td>4407.50</td>\n      <td>621.0</td>\n      <td>0</td>\n      <td>1100.0</td>\n      <td>26.75</td>\n      <td>1889.00</td>\n      <td>595.00</td>\n    </tr>\n    <tr>\n      <th>t18</th>\n      <td>0.00</td>\n      <td>888.50</td>\n      <td>4838.75</td>\n      <td>180.0</td>\n      <td>0</td>\n      <td>1194.0</td>\n      <td>0.00</td>\n      <td>2930.00</td>\n      <td>561.50</td>\n    </tr>\n    <tr>\n      <th>t19</th>\n      <td>0.00</td>\n      <td>1063.50</td>\n      <td>5428.75</td>\n      <td>0.0</td>\n      <td>0</td>\n      <td>1366.0</td>\n      <td>0.00</td>\n      <td>2945.25</td>\n      <td>581.75</td>\n    </tr>\n    <tr>\n      <th>t20</th>\n      <td>0.00</td>\n      <td>1028.00</td>\n      <td>5669.25</td>\n      <td>0.0</td>\n      <td>0</td>\n      <td>1460.0</td>\n      <td>0.00</td>\n      <td>2283.75</td>\n      <td>608.25</td>\n    </tr>\n    <tr>\n      <th>t21</th>\n      <td>0.00</td>\n      <td>937.25</td>\n      <td>5655.50</td>\n      <td>0.0</td>\n      <td>0</td>\n      <td>1524.0</td>\n      <td>0.00</td>\n      <td>1912.25</td>\n      <td>603.75</td>\n    </tr>\n    <tr>\n      <th>t22</th>\n      <td>0.00</td>\n      <td>890.00</td>\n      <td>5530.75</td>\n      <td>0.0</td>\n      <td>0</td>\n      <td>1569.0</td>\n      <td>0.00</td>\n      <td>1794.25</td>\n      <td>610.00</td>\n    </tr>\n    <tr>\n      <th>t23</th>\n      <td>0.00</td>\n      <td>797.25</td>\n      <td>5426.25</td>\n      <td>0.0</td>\n      <td>0</td>\n      <td>1592.0</td>\n      <td>0.00</td>\n      <td>1618.00</td>\n      <td>721.00</td>\n    </tr>\n    <tr>\n      <th>t24</th>\n      <td>0.00</td>\n      <td>845.50</td>\n      <td>5436.25</td>\n      <td>0.0</td>\n      <td>0</td>\n      <td>1606.0</td>\n      <td>0.00</td>\n      <td>1480.50</td>\n      <td>754.75</td>\n    </tr>\n  </tbody>\n</table>\n</div>"
     },
     "execution_count": 44,
     "metadata": {},
     "output_type": "execute_result"
    }
   ],
   "source": [
    "df1 = all_country(\"06.01.2021\")\n",
    "df2 = all_country(\"07.01.2021\")\n",
    "df = pd.concat([df1, df2])\n",
    "df"
   ]
  },
  {
   "cell_type": "code",
   "execution_count": 5,
   "metadata": {
    "pycharm": {
     "name": "#%%\n"
    }
   },
   "outputs": [],
   "source": [
    "def benelux_demand(data: str):\n",
    "    bel = f\"https://transparency.entsoe.eu/load-domain/r2/totalLoadR2/show?name=&defaultValue=false&viewType=TABLE&areaType=CTY&atch=false&dateTime.dateTime={data}+00:00|CET|DAY&biddingZone.values=CTY|10YBE----------2!CTY|10YBE----------2&dateTime.timezone=CET_CEST&dateTime.timezone_input=CET+(UTC+1)+/+CEST+(UTC+2)\"\n",
    "    ne = f\"https://transparency.entsoe.eu/load-domain/r2/totalLoadR2/show?name=&defaultValue=false&viewType=TABLE&areaType=CTY&atch=false&dateTime.dateTime={data}+00:00|CET|DAY&biddingZone.values=CTY|10YNL----------L!CTY|10YNL----------L&dateTime.timezone=CET_CEST&dateTime.timezone_input=CET+(UTC+1)+/+CEST+(UTC+2)\"\n",
    "    lux = f\"https://transparency.entsoe.eu/load-domain/r2/totalLoadR2/show?name=&defaultValue=false&viewType=TABLE&areaType=CTY&atch=false&dateTime.dateTime={data}+00:00|CET|DAY&biddingZone.values=CTY|10YLU-CEGEDEL-NQ!CTY|10YLU-CEGEDEL-NQ&dateTime.timezone=CET_CEST&dateTime.timezone_input=CET+(UTC+1)+/+CEST+(UTC+2)\"\n",
    "\n",
    "    df_be = entsoe_scrapper(bel, \"bel\")\n",
    "    df_ne = entsoe_scrapper(ne, \"ne\")\n",
    "    df_lux = entsoe_scrapper(lux, \"lux\")\n",
    "    print(df_be)"
   ]
  },
  {
   "cell_type": "code",
   "execution_count": 13,
   "outputs": [],
   "source": [
    "sdate = date(2021,1,1)   # start date\n",
    "edate = date(2022,1,1)\n",
    "d = pd.date_range(sdate,edate-timedelta(days=1),freq='d').strftime(\"%d.%m.%Y\")"
   ],
   "metadata": {
    "collapsed": false,
    "pycharm": {
     "name": "#%%\n"
    }
   }
  },
  {
   "cell_type": "code",
   "execution_count": 14,
   "outputs": [
    {
     "ename": "HTTPError",
     "evalue": "HTTP Error 429: Too Many Requests",
     "output_type": "error",
     "traceback": [
      "\u001B[1;31m---------------------------------------------------------------------------\u001B[0m",
      "\u001B[1;31mHTTPError\u001B[0m                                 Traceback (most recent call last)",
      "\u001B[1;32m<ipython-input-14-cbf23e5ab5ed>\u001B[0m in \u001B[0;36m<module>\u001B[1;34m\u001B[0m\n\u001B[0;32m      2\u001B[0m \u001B[1;32mfor\u001B[0m \u001B[0mi\u001B[0m \u001B[1;32min\u001B[0m \u001B[0md\u001B[0m\u001B[1;33m:\u001B[0m\u001B[1;33m\u001B[0m\u001B[1;33m\u001B[0m\u001B[0m\n\u001B[0;32m      3\u001B[0m     \u001B[0mtime\u001B[0m\u001B[1;33m.\u001B[0m\u001B[0msleep\u001B[0m\u001B[1;33m(\u001B[0m\u001B[1;36m3\u001B[0m\u001B[1;33m)\u001B[0m\u001B[1;33m\u001B[0m\u001B[1;33m\u001B[0m\u001B[0m\n\u001B[1;32m----> 4\u001B[1;33m     \u001B[0mdf_day\u001B[0m \u001B[1;33m=\u001B[0m \u001B[0mall_country\u001B[0m\u001B[1;33m(\u001B[0m\u001B[0mi\u001B[0m\u001B[1;33m)\u001B[0m\u001B[1;33m\u001B[0m\u001B[1;33m\u001B[0m\u001B[0m\n\u001B[0m\u001B[0;32m      5\u001B[0m     \u001B[0mdf\u001B[0m \u001B[1;33m=\u001B[0m \u001B[0mpd\u001B[0m\u001B[1;33m.\u001B[0m\u001B[0mconcat\u001B[0m\u001B[1;33m(\u001B[0m\u001B[1;33m[\u001B[0m\u001B[0mdf\u001B[0m\u001B[1;33m,\u001B[0m \u001B[0mdf_day\u001B[0m\u001B[1;33m]\u001B[0m\u001B[1;33m)\u001B[0m\u001B[1;33m\u001B[0m\u001B[1;33m\u001B[0m\u001B[0m\n\u001B[0;32m      6\u001B[0m \u001B[0mdf\u001B[0m\u001B[1;33m\u001B[0m\u001B[1;33m\u001B[0m\u001B[0m\n",
      "\u001B[1;32m<ipython-input-4-91f2d2702bd9>\u001B[0m in \u001B[0;36mall_country\u001B[1;34m(data)\u001B[0m\n\u001B[0;32m      1\u001B[0m \u001B[1;32mdef\u001B[0m \u001B[0mall_country\u001B[0m\u001B[1;33m(\u001B[0m\u001B[0mdata\u001B[0m\u001B[1;33m:\u001B[0m \u001B[0mstr\u001B[0m\u001B[1;33m)\u001B[0m\u001B[1;33m:\u001B[0m\u001B[1;33m\u001B[0m\u001B[1;33m\u001B[0m\u001B[0m\n\u001B[1;32m----> 2\u001B[1;33m     \u001B[0mdf_de\u001B[0m \u001B[1;33m=\u001B[0m \u001B[0mgermany\u001B[0m\u001B[1;33m(\u001B[0m\u001B[0mdata\u001B[0m\u001B[1;33m)\u001B[0m\u001B[1;33m.\u001B[0m\u001B[0madd_suffix\u001B[0m\u001B[1;33m(\u001B[0m\u001B[1;34m'_de'\u001B[0m\u001B[1;33m)\u001B[0m\u001B[1;33m\u001B[0m\u001B[1;33m\u001B[0m\u001B[0m\n\u001B[0m\u001B[0;32m      3\u001B[0m     \u001B[0mdf_france\u001B[0m \u001B[1;33m=\u001B[0m \u001B[0mfrance\u001B[0m\u001B[1;33m(\u001B[0m\u001B[0mdata\u001B[0m\u001B[1;33m)\u001B[0m\u001B[1;33m.\u001B[0m\u001B[0madd_suffix\u001B[0m\u001B[1;33m(\u001B[0m\u001B[1;34m'_fr'\u001B[0m\u001B[1;33m)\u001B[0m\u001B[1;33m\u001B[0m\u001B[1;33m\u001B[0m\u001B[0m\n\u001B[0;32m      4\u001B[0m     \u001B[0mdf_benelux\u001B[0m \u001B[1;33m=\u001B[0m \u001B[0mbenelux\u001B[0m\u001B[1;33m(\u001B[0m\u001B[0mdata\u001B[0m\u001B[1;33m)\u001B[0m\u001B[1;33m.\u001B[0m\u001B[0madd_suffix\u001B[0m\u001B[1;33m(\u001B[0m\u001B[1;34m'_bnl'\u001B[0m\u001B[1;33m)\u001B[0m\u001B[1;33m\u001B[0m\u001B[1;33m\u001B[0m\u001B[0m\n\u001B[0;32m      5\u001B[0m     \u001B[0mdf\u001B[0m \u001B[1;33m=\u001B[0m \u001B[0mdf_de\u001B[0m\u001B[1;33m.\u001B[0m\u001B[0mjoin\u001B[0m\u001B[1;33m(\u001B[0m\u001B[0mdf_france\u001B[0m\u001B[1;33m)\u001B[0m\u001B[1;33m.\u001B[0m\u001B[0mjoin\u001B[0m\u001B[1;33m(\u001B[0m\u001B[0mdf_benelux\u001B[0m\u001B[1;33m)\u001B[0m\u001B[1;33m\u001B[0m\u001B[1;33m\u001B[0m\u001B[0m\n",
      "\u001B[1;32m<ipython-input-3-88ed4284633d>\u001B[0m in \u001B[0;36mgermany\u001B[1;34m(data)\u001B[0m\n\u001B[0;32m      3\u001B[0m     \u001B[0moffshore\u001B[0m \u001B[1;33m=\u001B[0m \u001B[1;34mf\"https://transparency.entsoe.eu/generation/r2/actualGenerationPerProductionType/show?name=&defaultValue=false&viewType=TABLE&areaType=CTY&atch=false&datepicker-day-offset-select-dv-date-from_input=D&dateTime.dateTime={data}+00:00|CET|DAYTIMERANGE&dateTime.endDateTime={data}+00:00|CET|DAYTIMERANGE&area.values=CTY|10Y1001A1001A83F!CTY|10Y1001A1001A83F&productionType.values=B18&dateTime.timezone=CET_CEST&dateTime.timezone_input=CET+(UTC+1)+/+CEST+(UTC+2)\"\u001B[0m\u001B[1;33m\u001B[0m\u001B[1;33m\u001B[0m\u001B[0m\n\u001B[0;32m      4\u001B[0m     \u001B[0monshore\u001B[0m \u001B[1;33m=\u001B[0m \u001B[1;34mf\"https://transparency.entsoe.eu/generation/r2/actualGenerationPerProductionType/show?name=&defaultValue=false&viewType=TABLE&areaType=CTY&atch=false&datepicker-day-offset-select-dv-date-from_input=D&dateTime.dateTime={data}+00:00|CET|DAYTIMERANGE&dateTime.endDateTime={data}+00:00|CET|DAYTIMERANGE&area.values=CTY|10Y1001A1001A83F!CTY|10Y1001A1001A83F&productionType.values=B19&dateTime.timezone=CET_CEST&dateTime.timezone_input=CET+(UTC+1)+/+CEST+(UTC+2)\"\u001B[0m\u001B[1;33m\u001B[0m\u001B[1;33m\u001B[0m\u001B[0m\n\u001B[1;32m----> 5\u001B[1;33m     \u001B[0mdf_solar\u001B[0m \u001B[1;33m=\u001B[0m \u001B[0mentsoe_scrapper\u001B[0m\u001B[1;33m(\u001B[0m\u001B[0msolar\u001B[0m\u001B[1;33m,\u001B[0m \u001B[1;34m\"i10\"\u001B[0m\u001B[1;33m)\u001B[0m\u001B[1;33m\u001B[0m\u001B[1;33m\u001B[0m\u001B[0m\n\u001B[0m\u001B[0;32m      6\u001B[0m     \u001B[0mdf_offshore\u001B[0m \u001B[1;33m=\u001B[0m \u001B[0mentsoe_scrapper\u001B[0m\u001B[1;33m(\u001B[0m\u001B[0moffshore\u001B[0m\u001B[1;33m,\u001B[0m \u001B[1;34m\"i8\"\u001B[0m\u001B[1;33m)\u001B[0m\u001B[1;33m\u001B[0m\u001B[1;33m\u001B[0m\u001B[0m\n\u001B[0;32m      7\u001B[0m     \u001B[0mdf_onshore\u001B[0m \u001B[1;33m=\u001B[0m \u001B[0mentsoe_scrapper\u001B[0m\u001B[1;33m(\u001B[0m\u001B[0monshore\u001B[0m\u001B[1;33m,\u001B[0m \u001B[1;34m\"i3\"\u001B[0m\u001B[1;33m)\u001B[0m\u001B[1;33m\u001B[0m\u001B[1;33m\u001B[0m\u001B[0m\n",
      "\u001B[1;32m<ipython-input-2-5c9fe73002c9>\u001B[0m in \u001B[0;36mentsoe_scrapper\u001B[1;34m(url, tech)\u001B[0m\n\u001B[0;32m      1\u001B[0m \u001B[1;32mdef\u001B[0m \u001B[0mentsoe_scrapper\u001B[0m\u001B[1;33m(\u001B[0m\u001B[0murl\u001B[0m\u001B[1;33m:\u001B[0m \u001B[0mstr\u001B[0m\u001B[1;33m,\u001B[0m \u001B[0mtech\u001B[0m\u001B[1;33m:\u001B[0m \u001B[0mstr\u001B[0m\u001B[1;33m)\u001B[0m\u001B[1;33m:\u001B[0m\u001B[1;33m\u001B[0m\u001B[1;33m\u001B[0m\u001B[0m\n\u001B[1;32m----> 2\u001B[1;33m     \u001B[0mpage\u001B[0m \u001B[1;33m=\u001B[0m \u001B[0murlopen\u001B[0m\u001B[1;33m(\u001B[0m\u001B[0murl\u001B[0m\u001B[1;33m)\u001B[0m\u001B[1;33m\u001B[0m\u001B[1;33m\u001B[0m\u001B[0m\n\u001B[0m\u001B[0;32m      3\u001B[0m     \u001B[0mhtml_bytes\u001B[0m \u001B[1;33m=\u001B[0m \u001B[0mpage\u001B[0m\u001B[1;33m.\u001B[0m\u001B[0mread\u001B[0m\u001B[1;33m(\u001B[0m\u001B[1;33m)\u001B[0m\u001B[1;33m\u001B[0m\u001B[1;33m\u001B[0m\u001B[0m\n\u001B[0;32m      4\u001B[0m     \u001B[0mhtml\u001B[0m \u001B[1;33m=\u001B[0m \u001B[0mhtml_bytes\u001B[0m\u001B[1;33m.\u001B[0m\u001B[0mdecode\u001B[0m\u001B[1;33m(\u001B[0m\u001B[1;34m\"utf-8\"\u001B[0m\u001B[1;33m)\u001B[0m\u001B[1;33m\u001B[0m\u001B[1;33m\u001B[0m\u001B[0m\n\u001B[0;32m      5\u001B[0m     \u001B[0msoup\u001B[0m \u001B[1;33m=\u001B[0m \u001B[0mBeautifulSoup\u001B[0m\u001B[1;33m(\u001B[0m\u001B[0mhtml\u001B[0m\u001B[1;33m,\u001B[0m \u001B[1;34m\"html.parser\"\u001B[0m\u001B[1;33m)\u001B[0m\u001B[1;33m\u001B[0m\u001B[1;33m\u001B[0m\u001B[0m\n",
      "\u001B[1;32mD:\\Python\\lib\\urllib\\request.py\u001B[0m in \u001B[0;36murlopen\u001B[1;34m(url, data, timeout, cafile, capath, cadefault, context)\u001B[0m\n\u001B[0;32m    220\u001B[0m     \u001B[1;32melse\u001B[0m\u001B[1;33m:\u001B[0m\u001B[1;33m\u001B[0m\u001B[1;33m\u001B[0m\u001B[0m\n\u001B[0;32m    221\u001B[0m         \u001B[0mopener\u001B[0m \u001B[1;33m=\u001B[0m \u001B[0m_opener\u001B[0m\u001B[1;33m\u001B[0m\u001B[1;33m\u001B[0m\u001B[0m\n\u001B[1;32m--> 222\u001B[1;33m     \u001B[1;32mreturn\u001B[0m \u001B[0mopener\u001B[0m\u001B[1;33m.\u001B[0m\u001B[0mopen\u001B[0m\u001B[1;33m(\u001B[0m\u001B[0murl\u001B[0m\u001B[1;33m,\u001B[0m \u001B[0mdata\u001B[0m\u001B[1;33m,\u001B[0m \u001B[0mtimeout\u001B[0m\u001B[1;33m)\u001B[0m\u001B[1;33m\u001B[0m\u001B[1;33m\u001B[0m\u001B[0m\n\u001B[0m\u001B[0;32m    223\u001B[0m \u001B[1;33m\u001B[0m\u001B[0m\n\u001B[0;32m    224\u001B[0m \u001B[1;32mdef\u001B[0m \u001B[0minstall_opener\u001B[0m\u001B[1;33m(\u001B[0m\u001B[0mopener\u001B[0m\u001B[1;33m)\u001B[0m\u001B[1;33m:\u001B[0m\u001B[1;33m\u001B[0m\u001B[1;33m\u001B[0m\u001B[0m\n",
      "\u001B[1;32mD:\\Python\\lib\\urllib\\request.py\u001B[0m in \u001B[0;36mopen\u001B[1;34m(self, fullurl, data, timeout)\u001B[0m\n\u001B[0;32m    529\u001B[0m         \u001B[1;32mfor\u001B[0m \u001B[0mprocessor\u001B[0m \u001B[1;32min\u001B[0m \u001B[0mself\u001B[0m\u001B[1;33m.\u001B[0m\u001B[0mprocess_response\u001B[0m\u001B[1;33m.\u001B[0m\u001B[0mget\u001B[0m\u001B[1;33m(\u001B[0m\u001B[0mprotocol\u001B[0m\u001B[1;33m,\u001B[0m \u001B[1;33m[\u001B[0m\u001B[1;33m]\u001B[0m\u001B[1;33m)\u001B[0m\u001B[1;33m:\u001B[0m\u001B[1;33m\u001B[0m\u001B[1;33m\u001B[0m\u001B[0m\n\u001B[0;32m    530\u001B[0m             \u001B[0mmeth\u001B[0m \u001B[1;33m=\u001B[0m \u001B[0mgetattr\u001B[0m\u001B[1;33m(\u001B[0m\u001B[0mprocessor\u001B[0m\u001B[1;33m,\u001B[0m \u001B[0mmeth_name\u001B[0m\u001B[1;33m)\u001B[0m\u001B[1;33m\u001B[0m\u001B[1;33m\u001B[0m\u001B[0m\n\u001B[1;32m--> 531\u001B[1;33m             \u001B[0mresponse\u001B[0m \u001B[1;33m=\u001B[0m \u001B[0mmeth\u001B[0m\u001B[1;33m(\u001B[0m\u001B[0mreq\u001B[0m\u001B[1;33m,\u001B[0m \u001B[0mresponse\u001B[0m\u001B[1;33m)\u001B[0m\u001B[1;33m\u001B[0m\u001B[1;33m\u001B[0m\u001B[0m\n\u001B[0m\u001B[0;32m    532\u001B[0m \u001B[1;33m\u001B[0m\u001B[0m\n\u001B[0;32m    533\u001B[0m         \u001B[1;32mreturn\u001B[0m \u001B[0mresponse\u001B[0m\u001B[1;33m\u001B[0m\u001B[1;33m\u001B[0m\u001B[0m\n",
      "\u001B[1;32mD:\\Python\\lib\\urllib\\request.py\u001B[0m in \u001B[0;36mhttp_response\u001B[1;34m(self, request, response)\u001B[0m\n\u001B[0;32m    638\u001B[0m         \u001B[1;31m# request was successfully received, understood, and accepted.\u001B[0m\u001B[1;33m\u001B[0m\u001B[1;33m\u001B[0m\u001B[1;33m\u001B[0m\u001B[0m\n\u001B[0;32m    639\u001B[0m         \u001B[1;32mif\u001B[0m \u001B[1;32mnot\u001B[0m \u001B[1;33m(\u001B[0m\u001B[1;36m200\u001B[0m \u001B[1;33m<=\u001B[0m \u001B[0mcode\u001B[0m \u001B[1;33m<\u001B[0m \u001B[1;36m300\u001B[0m\u001B[1;33m)\u001B[0m\u001B[1;33m:\u001B[0m\u001B[1;33m\u001B[0m\u001B[1;33m\u001B[0m\u001B[0m\n\u001B[1;32m--> 640\u001B[1;33m             response = self.parent.error(\n\u001B[0m\u001B[0;32m    641\u001B[0m                 'http', request, response, code, msg, hdrs)\n\u001B[0;32m    642\u001B[0m \u001B[1;33m\u001B[0m\u001B[0m\n",
      "\u001B[1;32mD:\\Python\\lib\\urllib\\request.py\u001B[0m in \u001B[0;36merror\u001B[1;34m(self, proto, *args)\u001B[0m\n\u001B[0;32m    567\u001B[0m         \u001B[1;32mif\u001B[0m \u001B[0mhttp_err\u001B[0m\u001B[1;33m:\u001B[0m\u001B[1;33m\u001B[0m\u001B[1;33m\u001B[0m\u001B[0m\n\u001B[0;32m    568\u001B[0m             \u001B[0margs\u001B[0m \u001B[1;33m=\u001B[0m \u001B[1;33m(\u001B[0m\u001B[0mdict\u001B[0m\u001B[1;33m,\u001B[0m \u001B[1;34m'default'\u001B[0m\u001B[1;33m,\u001B[0m \u001B[1;34m'http_error_default'\u001B[0m\u001B[1;33m)\u001B[0m \u001B[1;33m+\u001B[0m \u001B[0morig_args\u001B[0m\u001B[1;33m\u001B[0m\u001B[1;33m\u001B[0m\u001B[0m\n\u001B[1;32m--> 569\u001B[1;33m             \u001B[1;32mreturn\u001B[0m \u001B[0mself\u001B[0m\u001B[1;33m.\u001B[0m\u001B[0m_call_chain\u001B[0m\u001B[1;33m(\u001B[0m\u001B[1;33m*\u001B[0m\u001B[0margs\u001B[0m\u001B[1;33m)\u001B[0m\u001B[1;33m\u001B[0m\u001B[1;33m\u001B[0m\u001B[0m\n\u001B[0m\u001B[0;32m    570\u001B[0m \u001B[1;33m\u001B[0m\u001B[0m\n\u001B[0;32m    571\u001B[0m \u001B[1;31m# XXX probably also want an abstract factory that knows when it makes\u001B[0m\u001B[1;33m\u001B[0m\u001B[1;33m\u001B[0m\u001B[1;33m\u001B[0m\u001B[0m\n",
      "\u001B[1;32mD:\\Python\\lib\\urllib\\request.py\u001B[0m in \u001B[0;36m_call_chain\u001B[1;34m(self, chain, kind, meth_name, *args)\u001B[0m\n\u001B[0;32m    500\u001B[0m         \u001B[1;32mfor\u001B[0m \u001B[0mhandler\u001B[0m \u001B[1;32min\u001B[0m \u001B[0mhandlers\u001B[0m\u001B[1;33m:\u001B[0m\u001B[1;33m\u001B[0m\u001B[1;33m\u001B[0m\u001B[0m\n\u001B[0;32m    501\u001B[0m             \u001B[0mfunc\u001B[0m \u001B[1;33m=\u001B[0m \u001B[0mgetattr\u001B[0m\u001B[1;33m(\u001B[0m\u001B[0mhandler\u001B[0m\u001B[1;33m,\u001B[0m \u001B[0mmeth_name\u001B[0m\u001B[1;33m)\u001B[0m\u001B[1;33m\u001B[0m\u001B[1;33m\u001B[0m\u001B[0m\n\u001B[1;32m--> 502\u001B[1;33m             \u001B[0mresult\u001B[0m \u001B[1;33m=\u001B[0m \u001B[0mfunc\u001B[0m\u001B[1;33m(\u001B[0m\u001B[1;33m*\u001B[0m\u001B[0margs\u001B[0m\u001B[1;33m)\u001B[0m\u001B[1;33m\u001B[0m\u001B[1;33m\u001B[0m\u001B[0m\n\u001B[0m\u001B[0;32m    503\u001B[0m             \u001B[1;32mif\u001B[0m \u001B[0mresult\u001B[0m \u001B[1;32mis\u001B[0m \u001B[1;32mnot\u001B[0m \u001B[1;32mNone\u001B[0m\u001B[1;33m:\u001B[0m\u001B[1;33m\u001B[0m\u001B[1;33m\u001B[0m\u001B[0m\n\u001B[0;32m    504\u001B[0m                 \u001B[1;32mreturn\u001B[0m \u001B[0mresult\u001B[0m\u001B[1;33m\u001B[0m\u001B[1;33m\u001B[0m\u001B[0m\n",
      "\u001B[1;32mD:\\Python\\lib\\urllib\\request.py\u001B[0m in \u001B[0;36mhttp_error_default\u001B[1;34m(self, req, fp, code, msg, hdrs)\u001B[0m\n\u001B[0;32m    647\u001B[0m \u001B[1;32mclass\u001B[0m \u001B[0mHTTPDefaultErrorHandler\u001B[0m\u001B[1;33m(\u001B[0m\u001B[0mBaseHandler\u001B[0m\u001B[1;33m)\u001B[0m\u001B[1;33m:\u001B[0m\u001B[1;33m\u001B[0m\u001B[1;33m\u001B[0m\u001B[0m\n\u001B[0;32m    648\u001B[0m     \u001B[1;32mdef\u001B[0m \u001B[0mhttp_error_default\u001B[0m\u001B[1;33m(\u001B[0m\u001B[0mself\u001B[0m\u001B[1;33m,\u001B[0m \u001B[0mreq\u001B[0m\u001B[1;33m,\u001B[0m \u001B[0mfp\u001B[0m\u001B[1;33m,\u001B[0m \u001B[0mcode\u001B[0m\u001B[1;33m,\u001B[0m \u001B[0mmsg\u001B[0m\u001B[1;33m,\u001B[0m \u001B[0mhdrs\u001B[0m\u001B[1;33m)\u001B[0m\u001B[1;33m:\u001B[0m\u001B[1;33m\u001B[0m\u001B[1;33m\u001B[0m\u001B[0m\n\u001B[1;32m--> 649\u001B[1;33m         \u001B[1;32mraise\u001B[0m \u001B[0mHTTPError\u001B[0m\u001B[1;33m(\u001B[0m\u001B[0mreq\u001B[0m\u001B[1;33m.\u001B[0m\u001B[0mfull_url\u001B[0m\u001B[1;33m,\u001B[0m \u001B[0mcode\u001B[0m\u001B[1;33m,\u001B[0m \u001B[0mmsg\u001B[0m\u001B[1;33m,\u001B[0m \u001B[0mhdrs\u001B[0m\u001B[1;33m,\u001B[0m \u001B[0mfp\u001B[0m\u001B[1;33m)\u001B[0m\u001B[1;33m\u001B[0m\u001B[1;33m\u001B[0m\u001B[0m\n\u001B[0m\u001B[0;32m    650\u001B[0m \u001B[1;33m\u001B[0m\u001B[0m\n\u001B[0;32m    651\u001B[0m \u001B[1;32mclass\u001B[0m \u001B[0mHTTPRedirectHandler\u001B[0m\u001B[1;33m(\u001B[0m\u001B[0mBaseHandler\u001B[0m\u001B[1;33m)\u001B[0m\u001B[1;33m:\u001B[0m\u001B[1;33m\u001B[0m\u001B[1;33m\u001B[0m\u001B[0m\n",
      "\u001B[1;31mHTTPError\u001B[0m: HTTP Error 429: Too Many Requests"
     ]
    }
   ],
   "source": [
    "df = pd.DataFrame()\n",
    "for i in d:\n",
    "    time.sleep(3)\n",
    "    df_day = all_country(i)\n",
    "    df = pd.concat([df, df_day])\n",
    "df"
   ],
   "metadata": {
    "collapsed": false,
    "pycharm": {
     "name": "#%%\n"
    }
   }
  },
  {
   "cell_type": "code",
   "execution_count": 37,
   "outputs": [
    {
     "data": {
      "text/plain": "MTU                    t1       t2       t3       t4       t5       t6  \\\nsolar_de             0.00     0.00     0.00     0.00     0.00     0.00   \noffshore_de        383.00   394.50   305.25   319.25   296.25   432.00   \nonshore_de        3934.50  3541.50  3217.00  2787.50  2492.50  2140.75   \nsolar_fr             0.00     0.00     0.00     0.00     0.00     0.00   \noffshore_fr          0.00     0.00     0.00     0.00     0.00     0.00   \nonshore_fr        1082.00  1075.00  1086.00  1149.00  1170.00  1190.00   \nsolar_benelux        0.00     0.00     0.00     0.00     0.00     0.00   \noffshore_benelux   474.00   549.50   558.50   580.75   615.75   658.00   \nonshore_benelux    166.75   174.25   190.75   223.50   256.75   291.50   \n\nMTU                    t7       t8       t9      t10  ...       t15       t16  \\\nsolar_de             0.00     0.00   194.00  1363.75  ...    685.75    222.25   \noffshore_de        510.25   389.25   359.50   248.25  ...   5728.00   5760.50   \nonshore_de        2010.75  1975.00  2087.50  2123.50  ...  10632.25  10743.75   \nsolar_fr             0.00     0.00   179.00   505.00  ...   1529.00    998.00   \noffshore_fr          0.00     0.00     0.00     0.00  ...      0.00      0.00   \nonshore_fr        1261.00  1275.00  1323.00  1294.00  ...   1888.00   2170.00   \nsolar_benelux        0.00     0.00     2.00   110.75  ...    126.25     58.00   \noffshore_benelux   719.00   605.50   550.25   607.25  ...   4317.25   4290.25   \nonshore_benelux    315.25   333.75   321.50   292.00  ...   1639.00   1653.00   \n\nMTU                    t17       t18       t19       t20       t21      t22  \\\nsolar_de              8.50      0.00      0.00      0.00      0.00     0.00   \noffshore_de        5761.00   5862.25   5867.50   5833.00   5889.50  5940.75   \nonshore_de        10800.50  10725.75  10600.75  10470.75  10119.75  9587.75   \nsolar_fr            441.00    180.00      0.00      0.00      0.00     0.00   \noffshore_fr           0.00      0.00      0.00      0.00      0.00     0.00   \nonshore_fr         2428.00   2478.00   2596.00   2790.00   2922.00  2906.00   \nsolar_benelux         7.00      0.00      0.00      0.00      0.00     0.00   \noffshore_benelux   4275.25   4252.25   4217.25   4199.50   4160.00  4020.50   \nonshore_benelux    1662.50   1660.00   1646.00   1635.75   1571.00  1530.00   \n\nMTU                   t23      t24  \nsolar_de             0.00     0.00  \noffshore_de       5952.00  6014.00  \nonshore_de        9112.25  9077.25  \nsolar_fr             0.00     0.00  \noffshore_fr          0.00     0.00  \nonshore_fr        2786.00  2757.00  \nsolar_benelux        0.00     0.00  \noffshore_benelux  3946.25  3884.00  \nonshore_benelux   1426.50  1322.75  \n\n[9 rows x 96 columns]",
      "text/html": "<div>\n<style scoped>\n    .dataframe tbody tr th:only-of-type {\n        vertical-align: middle;\n    }\n\n    .dataframe tbody tr th {\n        vertical-align: top;\n    }\n\n    .dataframe thead th {\n        text-align: right;\n    }\n</style>\n<table border=\"1\" class=\"dataframe\">\n  <thead>\n    <tr style=\"text-align: right;\">\n      <th>MTU</th>\n      <th>t1</th>\n      <th>t2</th>\n      <th>t3</th>\n      <th>t4</th>\n      <th>t5</th>\n      <th>t6</th>\n      <th>t7</th>\n      <th>t8</th>\n      <th>t9</th>\n      <th>t10</th>\n      <th>...</th>\n      <th>t15</th>\n      <th>t16</th>\n      <th>t17</th>\n      <th>t18</th>\n      <th>t19</th>\n      <th>t20</th>\n      <th>t21</th>\n      <th>t22</th>\n      <th>t23</th>\n      <th>t24</th>\n    </tr>\n  </thead>\n  <tbody>\n    <tr>\n      <th>solar_de</th>\n      <td>0.00</td>\n      <td>0.00</td>\n      <td>0.00</td>\n      <td>0.00</td>\n      <td>0.00</td>\n      <td>0.00</td>\n      <td>0.00</td>\n      <td>0.00</td>\n      <td>194.00</td>\n      <td>1363.75</td>\n      <td>...</td>\n      <td>685.75</td>\n      <td>222.25</td>\n      <td>8.50</td>\n      <td>0.00</td>\n      <td>0.00</td>\n      <td>0.00</td>\n      <td>0.00</td>\n      <td>0.00</td>\n      <td>0.00</td>\n      <td>0.00</td>\n    </tr>\n    <tr>\n      <th>offshore_de</th>\n      <td>383.00</td>\n      <td>394.50</td>\n      <td>305.25</td>\n      <td>319.25</td>\n      <td>296.25</td>\n      <td>432.00</td>\n      <td>510.25</td>\n      <td>389.25</td>\n      <td>359.50</td>\n      <td>248.25</td>\n      <td>...</td>\n      <td>5728.00</td>\n      <td>5760.50</td>\n      <td>5761.00</td>\n      <td>5862.25</td>\n      <td>5867.50</td>\n      <td>5833.00</td>\n      <td>5889.50</td>\n      <td>5940.75</td>\n      <td>5952.00</td>\n      <td>6014.00</td>\n    </tr>\n    <tr>\n      <th>onshore_de</th>\n      <td>3934.50</td>\n      <td>3541.50</td>\n      <td>3217.00</td>\n      <td>2787.50</td>\n      <td>2492.50</td>\n      <td>2140.75</td>\n      <td>2010.75</td>\n      <td>1975.00</td>\n      <td>2087.50</td>\n      <td>2123.50</td>\n      <td>...</td>\n      <td>10632.25</td>\n      <td>10743.75</td>\n      <td>10800.50</td>\n      <td>10725.75</td>\n      <td>10600.75</td>\n      <td>10470.75</td>\n      <td>10119.75</td>\n      <td>9587.75</td>\n      <td>9112.25</td>\n      <td>9077.25</td>\n    </tr>\n    <tr>\n      <th>solar_fr</th>\n      <td>0.00</td>\n      <td>0.00</td>\n      <td>0.00</td>\n      <td>0.00</td>\n      <td>0.00</td>\n      <td>0.00</td>\n      <td>0.00</td>\n      <td>0.00</td>\n      <td>179.00</td>\n      <td>505.00</td>\n      <td>...</td>\n      <td>1529.00</td>\n      <td>998.00</td>\n      <td>441.00</td>\n      <td>180.00</td>\n      <td>0.00</td>\n      <td>0.00</td>\n      <td>0.00</td>\n      <td>0.00</td>\n      <td>0.00</td>\n      <td>0.00</td>\n    </tr>\n    <tr>\n      <th>offshore_fr</th>\n      <td>0.00</td>\n      <td>0.00</td>\n      <td>0.00</td>\n      <td>0.00</td>\n      <td>0.00</td>\n      <td>0.00</td>\n      <td>0.00</td>\n      <td>0.00</td>\n      <td>0.00</td>\n      <td>0.00</td>\n      <td>...</td>\n      <td>0.00</td>\n      <td>0.00</td>\n      <td>0.00</td>\n      <td>0.00</td>\n      <td>0.00</td>\n      <td>0.00</td>\n      <td>0.00</td>\n      <td>0.00</td>\n      <td>0.00</td>\n      <td>0.00</td>\n    </tr>\n    <tr>\n      <th>onshore_fr</th>\n      <td>1082.00</td>\n      <td>1075.00</td>\n      <td>1086.00</td>\n      <td>1149.00</td>\n      <td>1170.00</td>\n      <td>1190.00</td>\n      <td>1261.00</td>\n      <td>1275.00</td>\n      <td>1323.00</td>\n      <td>1294.00</td>\n      <td>...</td>\n      <td>1888.00</td>\n      <td>2170.00</td>\n      <td>2428.00</td>\n      <td>2478.00</td>\n      <td>2596.00</td>\n      <td>2790.00</td>\n      <td>2922.00</td>\n      <td>2906.00</td>\n      <td>2786.00</td>\n      <td>2757.00</td>\n    </tr>\n    <tr>\n      <th>solar_benelux</th>\n      <td>0.00</td>\n      <td>0.00</td>\n      <td>0.00</td>\n      <td>0.00</td>\n      <td>0.00</td>\n      <td>0.00</td>\n      <td>0.00</td>\n      <td>0.00</td>\n      <td>2.00</td>\n      <td>110.75</td>\n      <td>...</td>\n      <td>126.25</td>\n      <td>58.00</td>\n      <td>7.00</td>\n      <td>0.00</td>\n      <td>0.00</td>\n      <td>0.00</td>\n      <td>0.00</td>\n      <td>0.00</td>\n      <td>0.00</td>\n      <td>0.00</td>\n    </tr>\n    <tr>\n      <th>offshore_benelux</th>\n      <td>474.00</td>\n      <td>549.50</td>\n      <td>558.50</td>\n      <td>580.75</td>\n      <td>615.75</td>\n      <td>658.00</td>\n      <td>719.00</td>\n      <td>605.50</td>\n      <td>550.25</td>\n      <td>607.25</td>\n      <td>...</td>\n      <td>4317.25</td>\n      <td>4290.25</td>\n      <td>4275.25</td>\n      <td>4252.25</td>\n      <td>4217.25</td>\n      <td>4199.50</td>\n      <td>4160.00</td>\n      <td>4020.50</td>\n      <td>3946.25</td>\n      <td>3884.00</td>\n    </tr>\n    <tr>\n      <th>onshore_benelux</th>\n      <td>166.75</td>\n      <td>174.25</td>\n      <td>190.75</td>\n      <td>223.50</td>\n      <td>256.75</td>\n      <td>291.50</td>\n      <td>315.25</td>\n      <td>333.75</td>\n      <td>321.50</td>\n      <td>292.00</td>\n      <td>...</td>\n      <td>1639.00</td>\n      <td>1653.00</td>\n      <td>1662.50</td>\n      <td>1660.00</td>\n      <td>1646.00</td>\n      <td>1635.75</td>\n      <td>1571.00</td>\n      <td>1530.00</td>\n      <td>1426.50</td>\n      <td>1322.75</td>\n    </tr>\n  </tbody>\n</table>\n<p>9 rows × 96 columns</p>\n</div>"
     },
     "execution_count": 37,
     "metadata": {},
     "output_type": "execute_result"
    }
   ],
   "source": [
    "df = df.transpose()"
   ],
   "metadata": {
    "collapsed": false,
    "pycharm": {
     "name": "#%%\n"
    }
   }
  },
  {
   "cell_type": "code",
   "execution_count": null,
   "outputs": [],
   "source": [
    "input_gen_writer = get_excel_writer('ew3-p-03_input_generated.xlsx')\n",
    "\n",
    "df.to_excel(excel_writer = input_gen_writer, sheet_name = 'generation', merge_cells = False)\n",
    "\n",
    "input_gen_writer.close()"
   ],
   "metadata": {
    "collapsed": false,
    "pycharm": {
     "name": "#%%\n"
    }
   }
  },
  {
   "cell_type": "code",
   "execution_count": 10,
   "outputs": [
    {
     "data": {
      "text/plain": "Index(['01.01.2021', '02.01.2021', '03.01.2021', '04.01.2021', '05.01.2021',\n       '06.01.2021', '07.01.2021', '08.01.2021', '09.01.2021', '10.01.2021',\n       '11.01.2021', '12.01.2021', '13.01.2021', '14.01.2021', '15.01.2021',\n       '16.01.2021', '17.01.2021', '18.01.2021', '19.01.2021', '20.01.2021',\n       '21.01.2021', '22.01.2021', '23.01.2021', '24.01.2021', '25.01.2021',\n       '26.01.2021', '27.01.2021', '28.01.2021', '29.01.2021', '30.01.2021',\n       '31.01.2021'],\n      dtype='object')"
     },
     "execution_count": 10,
     "metadata": {},
     "output_type": "execute_result"
    }
   ],
   "source": [
    "d"
   ],
   "metadata": {
    "collapsed": false,
    "pycharm": {
     "name": "#%%\n"
    }
   }
  },
  {
   "cell_type": "code",
   "execution_count": null,
   "outputs": [],
   "source": [],
   "metadata": {
    "collapsed": false,
    "pycharm": {
     "name": "#%%\n"
    }
   }
  }
 ],
 "metadata": {
  "kernelspec": {
   "display_name": "Python 3",
   "language": "python",
   "name": "python3"
  },
  "language_info": {
   "codemirror_mode": {
    "name": "ipython",
    "version": 3
   },
   "file_extension": ".py",
   "mimetype": "text/x-python",
   "name": "python",
   "nbconvert_exporter": "python",
   "pygments_lexer": "ipython3",
   "version": "3.8.5"
  }
 },
 "nbformat": 4,
 "nbformat_minor": 4
}