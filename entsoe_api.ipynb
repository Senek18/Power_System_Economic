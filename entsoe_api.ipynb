{
 "cells": [
  {
   "cell_type": "code",
   "execution_count": 1,
   "outputs": [],
   "source": [
    "import numpy as np\n",
    "from entsoe import EntsoePandasClient\n",
    "import pandas as pd\n",
    "from functools import reduce"
   ],
   "metadata": {
    "collapsed": false,
    "pycharm": {
     "name": "#%%\n"
    }
   }
  },
  {
   "cell_type": "markdown",
   "source": [
    "### API initialization"
   ],
   "metadata": {
    "collapsed": false,
    "pycharm": {
     "name": "#%% md\n"
    }
   }
  },
  {
   "cell_type": "code",
   "execution_count": 2,
   "outputs": [],
   "source": [
    "f = open('api_token', 'r')\n",
    "token = f.read()"
   ],
   "metadata": {
    "collapsed": false,
    "pycharm": {
     "name": "#%%\n"
    }
   }
  },
  {
   "cell_type": "code",
   "execution_count": 3,
   "outputs": [],
   "source": [
    "client = EntsoePandasClient(api_key=token)"
   ],
   "metadata": {
    "collapsed": false,
    "pycharm": {
     "name": "#%%\n"
    }
   }
  },
  {
   "cell_type": "markdown",
   "source": [
    "### Use API to scrap data about solar and wind generation"
   ],
   "metadata": {
    "collapsed": false,
    "pycharm": {
     "name": "#%% md\n"
    }
   }
  },
  {
   "cell_type": "code",
   "execution_count": 44,
   "outputs": [],
   "source": [
    "def entsoe_api_generation(start_time: str, end_time: str, country: str, plant: str):\n",
    "    start = pd.Timestamp(start_time, tz='Europe/Brussels')\n",
    "    end = pd.Timestamp(end_time, tz='Europe/Brussels')\n",
    "    h_in_year = (end - start).days * 24\n",
    "    try:\n",
    "        df = client.query_generation(country, start=start,end=end, psr_type=plant)\n",
    "    except:\n",
    "        df = pd.DataFrame(0, index=np.arange(8760), columns=[plant])\n",
    "    if len(df) > h_in_year:\n",
    "        i = 0\n",
    "        stop = len(df) - 1\n",
    "        new_agg = []\n",
    "        while i<stop:\n",
    "            var = (df.iloc[i,0] + df.iloc[i+1,0] + df.iloc[i+2,0] + df.iloc[i+3,0])/4\n",
    "            new_agg.append(var)\n",
    "            i = i + 4\n",
    "        df = pd.DataFrame({plant:new_agg})\n",
    "    else:\n",
    "        df = df.iloc[:,0]\n",
    "        df.reset_index(drop=True)\n",
    "    return df"
   ],
   "metadata": {
    "collapsed": false,
    "pycharm": {
     "name": "#%%\n"
    }
   }
  },
  {
   "cell_type": "code",
   "execution_count": 45,
   "outputs": [],
   "source": [
    "def entsoe_api_dataframe(start_time: str, end_time: str, country: str):\n",
    "    plant_type = [\"B16\", \"B18\", \"B19\"]\n",
    "    plant_idx = [\"i10\", \"i8\", \"i3\"]\n",
    "    df_solar = entsoe_api_generation(start_time, end_time, country, plant_type[0]).reset_index(drop=True)\n",
    "    df_offshore = entsoe_api_generation(start_time, end_time, country, plant_type[1]).reset_index(drop=True)\n",
    "    df_onshore = entsoe_api_generation(start_time, end_time, country, plant_type[2]).reset_index(drop=True)\n",
    "    data_frames = [df_solar, df_offshore, df_onshore]\n",
    "    df_merged = reduce(lambda  left,right: pd.merge(left,right,left_index=True, right_index=True,\n",
    "                                            how='outer'), data_frames)\n",
    "    df_merged.columns = plant_idx\n",
    "    return df_merged"
   ],
   "metadata": {
    "collapsed": false,
    "pycharm": {
     "name": "#%%\n"
    }
   }
  },
  {
   "cell_type": "code",
   "execution_count": 46,
   "outputs": [],
   "source": [
    "def all_country(start_time = '20210101', end_time = '20220101'):\n",
    "    df_de = entsoe_api_dataframe(start_time, end_time, \"DE_LU\").add_suffix('_de')\n",
    "    df_france = entsoe_api_dataframe(start_time, end_time, \"FR\").add_suffix('_fr')\n",
    "    df_be = entsoe_api_dataframe(start_time, end_time, \"BE\").reset_index(drop=True)\n",
    "    df_nl = entsoe_api_dataframe(start_time, end_time, \"NL\")\n",
    "    df_benelux = df_be + df_nl\n",
    "    df_benelux = df_benelux.add_suffix(\"_bnl\")\n",
    "    df = df_de.join(df_france).join(df_benelux)\n",
    "    df = df.fillna(0)\n",
    "    return df"
   ],
   "metadata": {
    "collapsed": false,
    "pycharm": {
     "name": "#%%\n"
    }
   }
  },
  {
   "cell_type": "code",
   "execution_count": 47,
   "outputs": [
    {
     "name": "stderr",
     "output_type": "stream",
     "text": [
      "<ipython-input-45-dea9633093bf>:8: FutureWarning: merging between different levels is deprecated and will be removed in a future version. (1 levels on the left, 2 on the right)\n",
      "  df_merged = reduce(lambda  left,right: pd.merge(left,right,left_index=True, right_index=True,\n"
     ]
    }
   ],
   "source": [
    "df = all_country()"
   ],
   "metadata": {
    "collapsed": false,
    "pycharm": {
     "name": "#%%\n"
    }
   }
  },
  {
   "cell_type": "code",
   "execution_count": 49,
   "outputs": [],
   "source": [
    "df = df.transpose()"
   ],
   "metadata": {
    "collapsed": false,
    "pycharm": {
     "name": "#%%\n"
    }
   }
  },
  {
   "cell_type": "code",
   "execution_count": 50,
   "outputs": [],
   "source": [
    "df.to_excel(\"output_t.xlsx\", sheet_name=\"Generation\")"
   ],
   "metadata": {
    "collapsed": false,
    "pycharm": {
     "name": "#%%\n"
    }
   }
  },
  {
   "cell_type": "markdown",
   "source": [
    "### Scrap load data"
   ],
   "metadata": {
    "collapsed": false,
    "pycharm": {
     "name": "#%% md\n"
    }
   }
  },
  {
   "cell_type": "code",
   "execution_count": 51,
   "outputs": [],
   "source": [
    "def entsoe_api_load(start_time: str, end_time: str, country: str):\n",
    "    start = pd.Timestamp(start_time, tz='Europe/Brussels')\n",
    "    end = pd.Timestamp(end_time, tz='Europe/Brussels')\n",
    "    h_in_year = (end - start).days * 24\n",
    "    try:\n",
    "        df = client.query_load(country, start=start,end=end)\n",
    "    except:\n",
    "        df = pd.DataFrame(0, index=np.arange(8760), columns=[country])\n",
    "    if len(df) > h_in_year:\n",
    "        i = 0\n",
    "        stop = len(df) - 1\n",
    "        new_agg = []\n",
    "        while i<stop:\n",
    "            var = (df.iloc[i,0] + df.iloc[i+1,0] + df.iloc[i+2,0] + df.iloc[i+3,0])/4\n",
    "            new_agg.append(var)\n",
    "            i = i + 4\n",
    "        df = pd.DataFrame({\"Load\":new_agg})\n",
    "    else:\n",
    "        df.columns = [\"Load\"]\n",
    "        df.reset_index(drop=True)\n",
    "    return df"
   ],
   "metadata": {
    "collapsed": false,
    "pycharm": {
     "name": "#%%\n"
    }
   }
  },
  {
   "cell_type": "code",
   "execution_count": 52,
   "outputs": [],
   "source": [
    "def load_country(start_time = '20210101', end_time = '20220101'):\n",
    "    df_de = entsoe_api_load(start_time, end_time, \"DE\").add_suffix('_de')\n",
    "    df_france = entsoe_api_load(start_time, end_time, \"FR\").add_suffix('_fr').reset_index(drop=True)\n",
    "    df_be = entsoe_api_load(start_time, end_time, \"BE\")\n",
    "    df_nl = entsoe_api_load(start_time, end_time, \"NL\")\n",
    "    df_lu = entsoe_api_load(start_time, end_time, \"LU\")\n",
    "    df_benelux = df_be + df_nl + df_lu\n",
    "    df_benelux = df_benelux.add_suffix(\"_bnl\")\n",
    "    df = df_de.join(df_france, how=\"outer\").join(df_benelux)\n",
    "    df = df.fillna(0)\n",
    "    return df"
   ],
   "metadata": {
    "collapsed": false,
    "pycharm": {
     "name": "#%%\n"
    }
   }
  },
  {
   "cell_type": "code",
   "execution_count": 53,
   "outputs": [],
   "source": [
    "df_load = load_country()"
   ],
   "metadata": {
    "collapsed": false,
    "pycharm": {
     "name": "#%%\n"
    }
   }
  },
  {
   "cell_type": "code",
   "execution_count": 55,
   "outputs": [
    {
     "data": {
      "text/plain": "    Load_de  Load_fr  Load_bnl\n0  44586.00  65761.0  21102.50\n1  42832.25  64139.0  20441.00\n2  41111.00  62657.0  19541.25\n3  40364.50  59481.0  18834.00\n4  40318.00  57656.0  18477.75",
      "text/html": "<div>\n<style scoped>\n    .dataframe tbody tr th:only-of-type {\n        vertical-align: middle;\n    }\n\n    .dataframe tbody tr th {\n        vertical-align: top;\n    }\n\n    .dataframe thead th {\n        text-align: right;\n    }\n</style>\n<table border=\"1\" class=\"dataframe\">\n  <thead>\n    <tr style=\"text-align: right;\">\n      <th></th>\n      <th>Load_de</th>\n      <th>Load_fr</th>\n      <th>Load_bnl</th>\n    </tr>\n  </thead>\n  <tbody>\n    <tr>\n      <th>0</th>\n      <td>44586.00</td>\n      <td>65761.0</td>\n      <td>21102.50</td>\n    </tr>\n    <tr>\n      <th>1</th>\n      <td>42832.25</td>\n      <td>64139.0</td>\n      <td>20441.00</td>\n    </tr>\n    <tr>\n      <th>2</th>\n      <td>41111.00</td>\n      <td>62657.0</td>\n      <td>19541.25</td>\n    </tr>\n    <tr>\n      <th>3</th>\n      <td>40364.50</td>\n      <td>59481.0</td>\n      <td>18834.00</td>\n    </tr>\n    <tr>\n      <th>4</th>\n      <td>40318.00</td>\n      <td>57656.0</td>\n      <td>18477.75</td>\n    </tr>\n  </tbody>\n</table>\n</div>"
     },
     "execution_count": 55,
     "metadata": {},
     "output_type": "execute_result"
    }
   ],
   "source": [
    "df_load.head()"
   ],
   "metadata": {
    "collapsed": false,
    "pycharm": {
     "name": "#%%\n"
    }
   }
  },
  {
   "cell_type": "code",
   "execution_count": 39,
   "outputs": [],
   "source": [
    "start_time = '20210101'\n",
    "end_time = '20220101'\n",
    "df_france = entsoe_api_load(start_time, end_time, \"FR\")"
   ],
   "metadata": {
    "collapsed": false,
    "pycharm": {
     "name": "#%%\n"
    }
   }
  },
  {
   "cell_type": "code",
   "execution_count": 40,
   "outputs": [],
   "source": [
    "df_france= df_france.reset_index(drop=True)"
   ],
   "metadata": {
    "collapsed": false,
    "pycharm": {
     "name": "#%%\n"
    }
   }
  },
  {
   "cell_type": "code",
   "execution_count": 41,
   "outputs": [
    {
     "data": {
      "text/plain": "         Load\n0     65761.0\n1     64139.0\n2     62657.0\n3     59481.0\n4     57656.0\n...       ...\n8746  56693.0\n8747  54155.0\n8748  51945.0\n8749  52907.0\n8750  54542.0\n\n[8751 rows x 1 columns]",
      "text/html": "<div>\n<style scoped>\n    .dataframe tbody tr th:only-of-type {\n        vertical-align: middle;\n    }\n\n    .dataframe tbody tr th {\n        vertical-align: top;\n    }\n\n    .dataframe thead th {\n        text-align: right;\n    }\n</style>\n<table border=\"1\" class=\"dataframe\">\n  <thead>\n    <tr style=\"text-align: right;\">\n      <th></th>\n      <th>Load</th>\n    </tr>\n  </thead>\n  <tbody>\n    <tr>\n      <th>0</th>\n      <td>65761.0</td>\n    </tr>\n    <tr>\n      <th>1</th>\n      <td>64139.0</td>\n    </tr>\n    <tr>\n      <th>2</th>\n      <td>62657.0</td>\n    </tr>\n    <tr>\n      <th>3</th>\n      <td>59481.0</td>\n    </tr>\n    <tr>\n      <th>4</th>\n      <td>57656.0</td>\n    </tr>\n    <tr>\n      <th>...</th>\n      <td>...</td>\n    </tr>\n    <tr>\n      <th>8746</th>\n      <td>56693.0</td>\n    </tr>\n    <tr>\n      <th>8747</th>\n      <td>54155.0</td>\n    </tr>\n    <tr>\n      <th>8748</th>\n      <td>51945.0</td>\n    </tr>\n    <tr>\n      <th>8749</th>\n      <td>52907.0</td>\n    </tr>\n    <tr>\n      <th>8750</th>\n      <td>54542.0</td>\n    </tr>\n  </tbody>\n</table>\n<p>8751 rows × 1 columns</p>\n</div>"
     },
     "execution_count": 41,
     "metadata": {},
     "output_type": "execute_result"
    }
   ],
   "source": [
    "df_france"
   ],
   "metadata": {
    "collapsed": false,
    "pycharm": {
     "name": "#%%\n"
    }
   }
  },
  {
   "cell_type": "code",
   "execution_count": 42,
   "outputs": [
    {
     "data": {
      "text/plain": "       Load_de  Load_fr  Load_bnl\n0     44586.00  65761.0  21102.50\n1     42832.25  64139.0  20441.00\n2     41111.00  62657.0  19541.25\n3     40364.50  59481.0  18834.00\n4     40318.00  57656.0  18477.75\n...        ...      ...       ...\n8755  55785.75      0.0  22331.25\n8756  51849.00      0.0  21203.00\n8757  48752.00      0.0  20126.00\n8758  47461.50      0.0      0.00\n8759  45617.00      0.0      0.00\n\n[8760 rows x 3 columns]",
      "text/html": "<div>\n<style scoped>\n    .dataframe tbody tr th:only-of-type {\n        vertical-align: middle;\n    }\n\n    .dataframe tbody tr th {\n        vertical-align: top;\n    }\n\n    .dataframe thead th {\n        text-align: right;\n    }\n</style>\n<table border=\"1\" class=\"dataframe\">\n  <thead>\n    <tr style=\"text-align: right;\">\n      <th></th>\n      <th>Load_de</th>\n      <th>Load_fr</th>\n      <th>Load_bnl</th>\n    </tr>\n  </thead>\n  <tbody>\n    <tr>\n      <th>0</th>\n      <td>44586.00</td>\n      <td>65761.0</td>\n      <td>21102.50</td>\n    </tr>\n    <tr>\n      <th>1</th>\n      <td>42832.25</td>\n      <td>64139.0</td>\n      <td>20441.00</td>\n    </tr>\n    <tr>\n      <th>2</th>\n      <td>41111.00</td>\n      <td>62657.0</td>\n      <td>19541.25</td>\n    </tr>\n    <tr>\n      <th>3</th>\n      <td>40364.50</td>\n      <td>59481.0</td>\n      <td>18834.00</td>\n    </tr>\n    <tr>\n      <th>4</th>\n      <td>40318.00</td>\n      <td>57656.0</td>\n      <td>18477.75</td>\n    </tr>\n    <tr>\n      <th>...</th>\n      <td>...</td>\n      <td>...</td>\n      <td>...</td>\n    </tr>\n    <tr>\n      <th>8755</th>\n      <td>55785.75</td>\n      <td>0.0</td>\n      <td>22331.25</td>\n    </tr>\n    <tr>\n      <th>8756</th>\n      <td>51849.00</td>\n      <td>0.0</td>\n      <td>21203.00</td>\n    </tr>\n    <tr>\n      <th>8757</th>\n      <td>48752.00</td>\n      <td>0.0</td>\n      <td>20126.00</td>\n    </tr>\n    <tr>\n      <th>8758</th>\n      <td>47461.50</td>\n      <td>0.0</td>\n      <td>0.00</td>\n    </tr>\n    <tr>\n      <th>8759</th>\n      <td>45617.00</td>\n      <td>0.0</td>\n      <td>0.00</td>\n    </tr>\n  </tbody>\n</table>\n<p>8760 rows × 3 columns</p>\n</div>"
     },
     "execution_count": 42,
     "metadata": {},
     "output_type": "execute_result"
    }
   ],
   "source": [
    "df_load"
   ],
   "metadata": {
    "collapsed": false,
    "pycharm": {
     "name": "#%%\n"
    }
   }
  },
  {
   "cell_type": "code",
   "execution_count": 57,
   "outputs": [],
   "source": [
    "df_load['Load_bnl']=df_load['Load_bnl'].replace(0,df_load['Load_bnl'].median())\n",
    "df_load['Load_fr']=df_load['Load_fr'].replace(0,df_load['Load_fr'].median())"
   ],
   "metadata": {
    "collapsed": false,
    "pycharm": {
     "name": "#%%\n"
    }
   }
  },
  {
   "cell_type": "code",
   "execution_count": 59,
   "outputs": [],
   "source": [
    "df_load = df_load.transpose()"
   ],
   "metadata": {
    "collapsed": false,
    "pycharm": {
     "name": "#%%\n"
    }
   }
  },
  {
   "cell_type": "code",
   "execution_count": 60,
   "outputs": [],
   "source": [
    "df_load.to_excel(\"load_output_t.xlsx\", sheet_name=\"Load\")"
   ],
   "metadata": {
    "collapsed": false,
    "pycharm": {
     "name": "#%%\n"
    }
   }
  },
  {
   "cell_type": "markdown",
   "source": [
    "### NTC value scrap"
   ],
   "metadata": {
    "collapsed": false,
    "pycharm": {
     "name": "#%% md\n"
    }
   }
  },
  {
   "cell_type": "code",
   "execution_count": 35,
   "outputs": [],
   "source": [
    "def entsoe_api_ntc(start_time = '20210101', end_time = '20220101'):\n",
    "    NEIGHBOURS = {\n",
    "    'DE_LU': ['BE', 'FR', 'NL'],\n",
    "    'FR': ['BE', 'DE_LU'],\n",
    "    'BE': ['NL', 'FR', 'DE_LU'],\n",
    "    'NL': ['BE', 'DE_LU'],\n",
    "    }\n",
    "    NTC_values = pd.DataFrame(columns=['DE_LU', 'FR', 'BE', 'NL'], index=['DE_LU', 'FR', 'BE', 'NL'])\n",
    "    start = pd.Timestamp(start_time, tz='Europe/Brussels')\n",
    "    end = pd.Timestamp(end_time, tz='Europe/Brussels')\n",
    "    for key in NEIGHBOURS:\n",
    "        for values in NEIGHBOURS[key]:\n",
    "            max_value = max(client.query_crossborder_flows(key, values, start=start, end=end))\n",
    "            NTC_values.loc[key, values] = max_value\n",
    "    return NTC_values"
   ],
   "metadata": {
    "collapsed": false,
    "pycharm": {
     "name": "#%%\n"
    }
   }
  },
  {
   "cell_type": "code",
   "execution_count": 36,
   "outputs": [],
   "source": [
    "NTC_values = entsoe_api_ntc()"
   ],
   "metadata": {
    "collapsed": false,
    "pycharm": {
     "name": "#%%\n"
    }
   }
  },
  {
   "cell_type": "code",
   "execution_count": 40,
   "outputs": [],
   "source": [
    "NTC_values = NTC_values.fillna(0)"
   ],
   "metadata": {
    "collapsed": false,
    "pycharm": {
     "name": "#%%\n"
    }
   }
  },
  {
   "cell_type": "code",
   "execution_count": 43,
   "outputs": [],
   "source": [
    "NTC_values.to_excel(\"NTC_values.xlsx\", sheet_name=\"NTC\")"
   ],
   "metadata": {
    "collapsed": false,
    "pycharm": {
     "name": "#%%\n"
    }
   }
  },
  {
   "cell_type": "markdown",
   "source": [
    "## Price scrap"
   ],
   "metadata": {
    "collapsed": false,
    "pycharm": {
     "name": "#%% md\n"
    }
   }
  },
  {
   "cell_type": "code",
   "execution_count": 11,
   "outputs": [],
   "source": [
    "start_time = '20210101'\n",
    "end_time = '20210201'\n",
    "start = pd.Timestamp(start_time, tz='Europe/Brussels')\n",
    "end = pd.Timestamp(end_time, tz='Europe/Brussels')\n",
    "df = client.query_day_ahead_prices(\"FR\", start=start,end=end)"
   ],
   "metadata": {
    "collapsed": false,
    "pycharm": {
     "name": "#%%\n"
    }
   }
  },
  {
   "cell_type": "code",
   "execution_count": 17,
   "outputs": [],
   "source": [
    "def price_scrap_country(country: str, start_time: str, end_time: str):\n",
    "    start = pd.Timestamp(start_time, tz='Europe/Brussels')\n",
    "    end = pd.Timestamp(end_time, tz='Europe/Brussels')\n",
    "    df = client.query_day_ahead_prices(country, start=start,end=end)\n",
    "    return df[:-1]"
   ],
   "metadata": {
    "collapsed": false,
    "pycharm": {
     "name": "#%%\n"
    }
   }
  },
  {
   "cell_type": "code",
   "execution_count": 44,
   "outputs": [],
   "source": [
    "def price_scrap(start_time = '20210101', end_time = '20220101'):\n",
    "    country_list = [\"DE_LU\", \"FR\", \"BE\", \"NL\"]\n",
    "    df_de = price_scrap_country(\"DE_LU\", start_time, end_time).add_suffix('_de').reset_index(drop=True)\n",
    "    df_fr = price_scrap_country(\"FR\", start_time, end_time).add_suffix('_fr').reset_index(drop=True)\n",
    "    df_be = price_scrap_country(\"BE\", start_time, end_time)\n",
    "    df_nl = price_scrap_country(\"NL\", start_time, end_time)\n",
    "    df_bnl = (df_be+df_nl)/2\n",
    "    return [df_de, df_fr, df_bnl]"
   ],
   "metadata": {
    "collapsed": false,
    "pycharm": {
     "name": "#%%\n"
    }
   }
  },
  {
   "cell_type": "code",
   "execution_count": 45,
   "outputs": [],
   "source": [
    "df = price_scrap()"
   ],
   "metadata": {
    "collapsed": false,
    "pycharm": {
     "name": "#%%\n"
    }
   }
  },
  {
   "cell_type": "code",
   "execution_count": 47,
   "outputs": [],
   "source": [
    "df[2]=df[2].reset_index(drop=True)"
   ],
   "metadata": {
    "collapsed": false,
    "pycharm": {
     "name": "#%%\n"
    }
   }
  },
  {
   "cell_type": "code",
   "execution_count": 49,
   "outputs": [],
   "source": [
    "with pd.ExcelWriter('output_price.xlsx') as writer:\n",
    "    df[0].to_excel(writer, sheet_name='Germany')\n",
    "    df[1].to_excel(writer, sheet_name='France')\n",
    "    df[2].to_excel(writer, sheet_name='Benelux')"
   ],
   "metadata": {
    "collapsed": false,
    "pycharm": {
     "name": "#%%\n"
    }
   }
  },
  {
   "cell_type": "code",
   "execution_count": null,
   "outputs": [],
   "source": [],
   "metadata": {
    "collapsed": false,
    "pycharm": {
     "name": "#%%\n"
    }
   }
  }
 ],
 "metadata": {
  "kernelspec": {
   "display_name": "Python 3",
   "language": "python",
   "name": "python3"
  },
  "language_info": {
   "codemirror_mode": {
    "name": "ipython",
    "version": 2
   },
   "file_extension": ".py",
   "mimetype": "text/x-python",
   "name": "python",
   "nbconvert_exporter": "python",
   "pygments_lexer": "ipython2",
   "version": "2.7.6"
  }
 },
 "nbformat": 4,
 "nbformat_minor": 0
}